{
 "cells": [
  {
   "cell_type": "markdown",
   "metadata": {},
   "source": [
    "## Anomalies in wind unput data\n",
    "### High wind generation with zero MPH data\n",
    "There is a lot of data with zero wind speed (MPH) and non zero MWH, some generation value are quite high (> 1000).\n",
    "\n",
    "My guess is that we have missing wind speed data that is reported as zero (instead of not assigned or empty) or there is incorrect or too coarse input data (wind speed or production are not accurate).\n",
    "\n",
    "This item can be fixed with simple preprocessing step that removes from calculation such lines (zero wind speed, some wind energy output).\n",
    "\n",
    "### Zero generation for relatively high MPH\n",
    "For some BA there is some data with moderate and high wind speed that produce no MWH, even though the same wind speed and even lower wind speed at some hours do produce significant amount of energy.\n",
    "\n",
    "There is no obvious fix to this issue. It can mean the error in data or data is real and and we should take more variables into consideration (exact hour value, holidays, etc) to find the explanation and functional dependancy.\n",
    "\n",
    "### Missing (zero) generation for some BA (AZPS and PGE)\n",
    "All the available input data for AZPS and PGE contains zero MWH (even for significant MPH).\n",
    "\n",
    "Below there will be examples of all anomalies and some plots that show dependency of production (mwh) and other input (mainly mph). In the plots we can see mentioned patterns as well as a lot of randomness (no obvious linear dependency from mph). Just skip the python code and go to the data and plots, may be ocasionally reading some comments in python code."
   ]
  },
  {
   "cell_type": "code",
   "execution_count": 1,
   "metadata": {},
   "outputs": [
    {
     "ename": "ModuleNotFoundError",
     "evalue": "No module named 'seaborn'",
     "output_type": "error",
     "traceback": [
      "\u001b[1;31m---------------------------------------------------------------------------\u001b[0m",
      "\u001b[1;31mModuleNotFoundError\u001b[0m                       Traceback (most recent call last)",
      "\u001b[1;32m<ipython-input-1-3104c15188c9>\u001b[0m in \u001b[0;36m<module>\u001b[1;34m()\u001b[0m\n\u001b[0;32m      1\u001b[0m \u001b[1;32mimport\u001b[0m \u001b[0mpandas\u001b[0m \u001b[1;32mas\u001b[0m \u001b[0mpd\u001b[0m\u001b[1;33m\u001b[0m\u001b[0m\n\u001b[0;32m      2\u001b[0m \u001b[1;32mimport\u001b[0m \u001b[0mmatplotlib\u001b[0m\u001b[1;33m.\u001b[0m\u001b[0mpyplot\u001b[0m \u001b[1;32mas\u001b[0m \u001b[0mplt\u001b[0m\u001b[1;33m\u001b[0m\u001b[0m\n\u001b[1;32m----> 3\u001b[1;33m \u001b[1;32mimport\u001b[0m \u001b[0mseaborn\u001b[0m \u001b[1;32mas\u001b[0m \u001b[0msns\u001b[0m\u001b[1;33m\u001b[0m\u001b[0m\n\u001b[0m\u001b[0;32m      4\u001b[0m \u001b[1;33m\u001b[0m\u001b[0m\n\u001b[0;32m      5\u001b[0m \u001b[0mget_ipython\u001b[0m\u001b[1;33m(\u001b[0m\u001b[1;33m)\u001b[0m\u001b[1;33m.\u001b[0m\u001b[0mrun_line_magic\u001b[0m\u001b[1;33m(\u001b[0m\u001b[1;34m'matplotlib'\u001b[0m\u001b[1;33m,\u001b[0m \u001b[1;34m'inline'\u001b[0m\u001b[1;33m)\u001b[0m\u001b[1;33m\u001b[0m\u001b[0m\n",
      "\u001b[1;31mModuleNotFoundError\u001b[0m: No module named 'seaborn'"
     ]
    }
   ],
   "source": [
    "import pandas as pd\n",
    "import matplotlib.pyplot as plt\n",
    "import seaborn as sns\n",
    "\n",
    "%matplotlib inline"
   ]
  },
  {
   "cell_type": "code",
   "execution_count": null,
   "metadata": {},
   "outputs": [],
   "source": [
    "windactuals = pd.read_csv(\"data/windactuals.txt\")"
   ]
  },
  {
   "cell_type": "code",
   "execution_count": null,
   "metadata": {},
   "outputs": [],
   "source": [
    "import datetime\n",
    "\n",
    "def decode_out_str_date(str):\n",
    "    ''' \n",
    "    Converts string in usual date input format for model into date value.\n",
    "    (format: %m/%d/%Y 0:00:00)\n",
    "    '''\n",
    "    return datetime.datetime.strptime(str, \"%m/%d/%Y 0:00:00\").date()\n",
    "\n",
    "def convert_date_fields( dataFrame, srcFields, targetFields=None):\n",
    "    ''' \n",
    "    Converts dataframe string columns containing dates in \"%m/%d/%Y 0:00:00\" \n",
    "    into columns with python date values.    \n",
    "    ''' \n",
    "    doDrop = targetFields is None\n",
    "    if (targetFields is None):\n",
    "        targetFields = srcFields\n",
    "    for src, target in zip(srcFields, targetFields):        \n",
    "        tmpcol = '__tmpField_' + src\n",
    "        dataFrame[tmpcol] = dataFrame[src].apply(decode_out_str_date)\n",
    "        if (doDrop):\n",
    "            dataFrame = dataFrame.drop(columns=[src])\n",
    "        dataFrame = dataFrame.rename(columns = { tmpcol : target}) \n",
    "        return dataFrame\n",
    "\n",
    "def add_dow_field(df, dateField):\n",
    "    df['dow'] = df[dateField].apply(lambda dt : dt.isoweekday())\n",
    "    return df"
   ]
  },
  {
   "cell_type": "code",
   "execution_count": null,
   "metadata": {},
   "outputs": [],
   "source": [
    "windactuals = convert_date_fields(windactuals, [\"date\"], [\"dateObj\"])\n",
    "windactuals = add_dow_field(windactuals, \"dateObj\")"
   ]
  },
  {
   "cell_type": "markdown",
   "metadata": {},
   "source": [
    "### data with zero mph and mwh > 500\n",
    "more than 3500 data points."
   ]
  },
  {
   "cell_type": "code",
   "execution_count": null,
   "metadata": {},
   "outputs": [],
   "source": [
    "windactuals[(windactuals.mph==0) & (windactuals.mwh > 500 )]"
   ]
  },
  {
   "cell_type": "markdown",
   "metadata": {},
   "source": [
    "### Zero generation for relatively hight MPH\n",
    "Here is data with zero MWH and MPH > 10\n",
    "more than 6000 data points."
   ]
  },
  {
   "cell_type": "code",
   "execution_count": null,
   "metadata": {},
   "outputs": [],
   "source": [
    "windactuals[(windactuals.mph > 10 ) & (windactuals.mwh == 0 )]\n"
   ]
  },
  {
   "cell_type": "code",
   "execution_count": null,
   "metadata": {},
   "outputs": [],
   "source": [
    "plt.rcParams['figure.figsize'] = [12,7]"
   ]
  },
  {
   "cell_type": "code",
   "execution_count": null,
   "metadata": {},
   "outputs": [],
   "source": [
    "def slice_ba(df, bacode):\n",
    "    return df[df.BAcode == bacode]"
   ]
  },
  {
   "cell_type": "code",
   "execution_count": null,
   "metadata": {},
   "outputs": [],
   "source": [
    "def plot_dependency(df, field, title = ''):\n",
    "    p = sns.regplot(x=field, y='mwh', data=df, scatter_kws={'alpha':0.05}, line_kws={'color': 'red'})\n",
    "    if (len(title)):\n",
    "        p.set_title(title)\n",
    "    plt.show()\n",
    "#    sns.pairplot(df, x_vars=['mph', 'Hour'], y_vars=['mwh'])"
   ]
  },
  {
   "cell_type": "markdown",
   "metadata": {},
   "source": [
    "### regression plots of MWH and MPH\n",
    "you can see that the dependency of mwh and mph is not so linear, as we have some high generation values for relatively low wind speed. Even if we drop lines with zero MPH and non zero MWH the dependency will still be somewhat random."
   ]
  },
  {
   "cell_type": "code",
   "execution_count": null,
   "metadata": {},
   "outputs": [],
   "source": [
    "availableBA = windactuals.BAcode.unique()"
   ]
  },
  {
   "cell_type": "code",
   "execution_count": null,
   "metadata": {},
   "outputs": [],
   "source": [
    "%%javascript\n",
    "IPython.OutputArea.prototype._should_scroll = function(lines) {\n",
    "    return false;\n",
    "}"
   ]
  },
  {
   "cell_type": "code",
   "execution_count": null,
   "metadata": {},
   "outputs": [],
   "source": [
    "for ba in availableBA:\n",
    "    dfBA = slice_ba(windactuals, ba)\n",
    "    plot_dependency(dfBA, 'mph', ba)"
   ]
  },
  {
   "cell_type": "code",
   "execution_count": null,
   "metadata": {},
   "outputs": [],
   "source": [
    "def plot_production(df):\n",
    "    plt.plot(df.dateObj, df.mwh)\n",
    "    plt.title('wind generation')"
   ]
  },
  {
   "cell_type": "code",
   "execution_count": null,
   "metadata": {},
   "outputs": [],
   "source": [
    "# MWH for PSCO\n",
    "dfPSCO = slice_ba(windactuals, 'PSCO')\n",
    "plot_dependency(dfPSCO, 'mph')"
   ]
  },
  {
   "cell_type": "code",
   "execution_count": null,
   "metadata": {},
   "outputs": [],
   "source": [
    "# MWH for 9th hour of PSCO\n",
    "dfPSCO_HourX = dfPSCO[dfPSCO.Hour==9]\n",
    "plot_dependency(dfPSCO_HourX, 'mph')"
   ]
  },
  {
   "cell_type": "code",
   "execution_count": null,
   "metadata": {},
   "outputs": [],
   "source": [
    "# MWH for weekdays at PSCO\n",
    "plot_dependency(dfPSCO, 'dow')"
   ]
  },
  {
   "cell_type": "code",
   "execution_count": null,
   "metadata": {},
   "outputs": [],
   "source": [
    "# pairplots for PSCO (MWH for MPH, Hour, DOW)\n",
    "sns.pairplot(dfPSCO, x_vars=['mph', 'Hour', 'dow'], y_vars=['mwh'])"
   ]
  },
  {
   "cell_type": "code",
   "execution_count": null,
   "metadata": {},
   "outputs": [],
   "source": []
  }
 ],
 "metadata": {
  "kernelspec": {
   "display_name": "Python 3",
   "language": "python",
   "name": "python3"
  },
  "language_info": {
   "codemirror_mode": {
    "name": "ipython",
    "version": 3
   },
   "file_extension": ".py",
   "mimetype": "text/x-python",
   "name": "python",
   "nbconvert_exporter": "python",
   "pygments_lexer": "ipython3",
   "version": "3.6.5"
  }
 },
 "nbformat": 4,
 "nbformat_minor": 2
}
